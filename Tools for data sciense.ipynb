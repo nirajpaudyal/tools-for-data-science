{
 "cells": [
  {
   "cell_type": "markdown",
   "id": "3594b4c1",
   "metadata": {},
   "source": [
    "# Some of the popular languages that Data Scientists use are:\n",
    "1. Python\n",
    "2. R\n",
    "3. SQL"
   ]
  },
  {
   "cell_type": "markdown",
   "id": "b6fff466",
   "metadata": {},
   "source": [
    "# Some of the commonly used libraries used by Data Scientists include:\n",
    "1. Keras\n",
    "2. Pandas\n",
    "3. Scikit-learn"
   ]
  },
  {
   "cell_type": "markdown",
   "id": "410d4a88",
   "metadata": {},
   "source": [
    "# Data Science Tools\n",
    "| Tools.   | \n",
    "|:--------:|\n",
    "|  Tableau | \n",
    "|Matplotlib|  \n",
    "|Tensorflow|"
   ]
  },
  {
   "cell_type": "markdown",
   "id": "9878e0d1",
   "metadata": {},
   "source": [
    "### Below are a few examples of evaluating arithmetic expressions in Python\n"
   ]
  },
  {
   "cell_type": "code",
   "execution_count": 1,
   "id": "943acee1",
   "metadata": {},
   "outputs": [
    {
     "data": {
      "text/plain": [
       "17"
      ]
     },
     "execution_count": 1,
     "metadata": {},
     "output_type": "execute_result"
    }
   ],
   "source": [
    "(3*4)+5"
   ]
  },
  {
   "cell_type": "markdown",
   "id": "85e276b3",
   "metadata": {},
   "source": [
    "### This is a simple arithmetic expression to multiply then add integer."
   ]
  },
  {
   "cell_type": "code",
   "execution_count": 2,
   "id": "e9f14c50",
   "metadata": {},
   "outputs": [
    {
     "data": {
      "text/plain": [
       "3.3333333333333335"
      ]
     },
     "execution_count": 2,
     "metadata": {},
     "output_type": "execute_result"
    }
   ],
   "source": [
    "200/60"
   ]
  },
  {
   "cell_type": "markdown",
   "id": "7cb8989b",
   "metadata": {},
   "source": [
    "### This will convert 200 minutes to hours by diving by 60"
   ]
  },
  {
   "cell_type": "markdown",
   "id": "da001368",
   "metadata": {},
   "source": [
    "### Objectives:\n",
    "<ul>\n",
    "<li>R</li>\n",
    "<li>Python</li>\n",
    "<li>SQL</li>\n",
    "</ul>"
   ]
  },
  {
   "cell_type": "markdown",
   "id": "5c42759a",
   "metadata": {},
   "source": [
    "## Author\n",
    "Niraj Paudyal\n"
   ]
  },
  {
   "cell_type": "code",
   "execution_count": null,
   "id": "0665e981",
   "metadata": {},
   "outputs": [],
   "source": []
  }
 ],
 "metadata": {
  "kernelspec": {
   "display_name": "Python 3 (ipykernel)",
   "language": "python",
   "name": "python3"
  },
  "language_info": {
   "codemirror_mode": {
    "name": "ipython",
    "version": 3
   },
   "file_extension": ".py",
   "mimetype": "text/x-python",
   "name": "python",
   "nbconvert_exporter": "python",
   "pygments_lexer": "ipython3",
   "version": "3.10.9"
  }
 },
 "nbformat": 4,
 "nbformat_minor": 5
}
